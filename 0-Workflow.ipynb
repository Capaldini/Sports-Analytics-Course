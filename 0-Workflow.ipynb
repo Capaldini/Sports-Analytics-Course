{
 "cells": [
  {
   "cell_type": "markdown",
   "metadata": {},
   "source": [
    "# Exploring Political Values Based on Reaction to Nike's Kaepernick Campaign"
   ]
  },
  {
   "cell_type": "markdown",
   "metadata": {},
   "source": [
    "## Introduction"
   ]
  },
  {
   "cell_type": "markdown",
   "metadata": {},
   "source": [
    "One of the most important aspects of sports is the gear worn by athletes.\n",
    "Historically sports apparel and the brands that make them have served two functions:\n",
    "* Improve Performance - often through innovative materials\n",
    "* Express the players' personality - often through design elements such a use of color or symbol (Jordan Jumpman)\n",
    "\n",
    "In this time period a new function for sports apparel appears to be forming: an expression of political values.\n",
    "\n",
    "This is most evident with Nike's decision to publicly support Colin Kaepernick kneeling during the National Anthem at NFL games in protest of police brutality in America. This is an issue highly divided by political lines, and the company's endorsement was publicly critized by the former Republican President of the United States, Donald Trump, on Twitter."
   ]
  },
  {
   "cell_type": "markdown",
   "metadata": {},
   "source": [
    "## Goal"
   ]
  },
  {
   "cell_type": "markdown",
   "metadata": {},
   "source": [
    "This notebook explores the tweets made on the day Nike anounced its endorsement of Colin Kaepernick (September 7, 2018). Using a series of data science techniques, the goal is to see if there are insights that can be generated from the tweets to inform Nike's brand strategy in the United States.\n",
    "\n",
    "\n"
   ]
  },
  {
   "cell_type": "markdown",
   "metadata": {},
   "source": [
    "## 1. Upload Dataset"
   ]
  },
  {
   "cell_type": "markdown",
   "metadata": {},
   "source": [
    "First, we upload the [dataset](https://www.kaggle.com/eliasdabbas/5000-justdoit-tweets-dataset) with Twitter data related to Nike's Kaepernick Campaign from Kaggle.\n",
    "\n",
    "Run the following notebook to extract relevant tweet information downloaded from the website Kaggle and assign a state and state-based political value to each tweet.\n",
    "\n"
   ]
  },
  {
   "cell_type": "markdown",
   "metadata": {},
   "source": [
    "[1-CreateDataset.ipynb](./1-CreateDataset.ipynb)"
   ]
  },
  {
   "cell_type": "markdown",
   "metadata": {},
   "source": [
    "This notebook saves the dataset in the file `./intermediate_data/cleaned_tweet_data.json`.\n"
   ]
  },
  {
   "cell_type": "markdown",
   "metadata": {},
   "source": [
    "## 2. Explore Data"
   ]
  },
  {
   "cell_type": "markdown",
   "metadata": {},
   "source": [
    "Tweets cannot be directly used for machine learning. Here I use the TfidfVectorizer method to calculate a fixed-sized feature vector for each tweet. I then cluster the tweets into groups of 5.\n",
    "\n",
    "Run the following notebook to create and explore clusters\n",
    ". "
   ]
  },
  {
   "cell_type": "markdown",
   "metadata": {},
   "source": [
    "[2-ExploreData.ipynb](./2-ExploreData.ipynb)"
   ]
  },
  {
   "cell_type": "markdown",
   "metadata": {},
   "source": [
    "## 3. Fit a Model and Predict Favoriting\n"
   ]
  },
  {
   "cell_type": "markdown",
   "metadata": {},
   "source": [
    "Next, we fit a classification model using the same TfidfVectorizer method to see whether a tweet that is \"favorited\" can be predicted from the dataset.\n",
    "\n",
    "Run the following notebook to fit a machine learning model on a training set and evaluate its performance on a test set."
   ]
  },
  {
   "cell_type": "markdown",
   "metadata": {},
   "source": [
    "[3-FitPredictFavoriting.ipynb](./3-FitPredictFavoriting.ipynb)\n",
    "\n",
    "\n"
   ]
  },
  {
   "cell_type": "markdown",
   "metadata": {},
   "source": [
    "## 4. Fit a Model  and Predict Home State Electoral College Results"
   ]
  },
  {
   "cell_type": "markdown",
   "metadata": {},
   "source": [
    "Finally, we fit a classification model using the same TfidfVectorizer method to see whether the dataset can predict whether a tweet came from a state whose electoral college voted Republican or Democratic.\n",
    "\n",
    "Run the following notebook to fit a machine learning model on a training set and evaluate its performance on a test set.\n",
    "\n",
    "\n",
    "\n"
   ]
  },
  {
   "cell_type": "markdown",
   "metadata": {},
   "source": [
    "[4-FitPredictECResults.ipynb](./4-FitPredictECResults.ipynb)"
   ]
  },
  {
   "cell_type": "markdown",
   "metadata": {},
   "source": [
    "## Version and Hardware Information"
   ]
  },
  {
   "cell_type": "code",
   "execution_count": 2,
   "metadata": {},
   "outputs": [
    {
     "name": "stdout",
     "output_type": "stream",
     "text": [
      "The watermark extension is already loaded. To reload it, use:\n",
      "  %reload_ext watermark\n",
      "Python implementation: CPython\n",
      "Python version       : 3.7.4\n",
      "IPython version      : 7.8.0\n",
      "\n",
      "ipywidgets: 7.5.1\n",
      "matplotlib: 3.3.2\n",
      "numpy     : 1.17.2\n",
      "pandas    : 0.25.1\n",
      "sklearn   : 0.24.2\n",
      "\n",
      "Compiler    : Clang 4.0.1 (tags/RELEASE_401/final)\n",
      "OS          : Darwin\n",
      "Release     : 19.6.0\n",
      "Machine     : x86_64\n",
      "Processor   : i386\n",
      "CPU cores   : 16\n",
      "Architecture: 64bit\n",
      "\n"
     ]
    }
   ],
   "source": [
    "%load_ext watermark\n",
    "%watermark -v -m -p ipywidgets,matplotlib,numpy,pandas,sklearn"
   ]
  },
  {
   "cell_type": "markdown",
   "metadata": {},
   "source": [
    "---\n",
    "\n",
    "**Author:** [Nick Capaldini](mailto:nickcaps@umich.edu), University of Michigan, January 19, 2022\n",
    "\n",
    "---"
   ]
  },
  {
   "cell_type": "code",
   "execution_count": null,
   "metadata": {},
   "outputs": [],
   "source": []
  }
 ],
 "metadata": {
  "kernelspec": {
   "display_name": "Python 3",
   "language": "python",
   "name": "python3"
  },
  "language_info": {
   "codemirror_mode": {
    "name": "ipython",
    "version": 3
   },
   "file_extension": ".py",
   "mimetype": "text/x-python",
   "name": "python",
   "nbconvert_exporter": "python",
   "pygments_lexer": "ipython3",
   "version": "3.7.4"
  }
 },
 "nbformat": 4,
 "nbformat_minor": 2
}
