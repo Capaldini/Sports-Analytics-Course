{
 "cells": [
  {
   "cell_type": "markdown",
   "metadata": {},
   "source": [
    "# Fit a Model and Predict Favoriting\n",
    "This notebook attempts to create a model that can predict whether a tweet was favorited by other Twitter users."
   ]
  },
  {
   "cell_type": "code",
   "execution_count": 23,
   "metadata": {},
   "outputs": [],
   "source": [
    "import pandas as pd\n",
    "import mlutils\n",
    "from sklearn import svm, metrics\n",
    "from sklearn.linear_model import LogisticRegression\n",
    "from sklearn.model_selection import train_test_split\n",
    "import json\n",
    "import numpy as np\n",
    "from sklearn.dummy import DummyClassifier\n",
    "from sklearn.feature_extraction.text import TfidfVectorizer\n",
    "from sklearn.ensemble import RandomForestClassifier\n",
    "from sklearn.metrics import f1_score\n",
    "from sklearn.model_selection import train_test_split\n",
    "from tqdm import tqdm\n"
   ]
  },
  {
   "cell_type": "code",
   "execution_count": 24,
   "metadata": {},
   "outputs": [],
   "source": [
    "#set random seed\n",
    "RANDOM_SEED = 655"
   ]
  },
  {
   "cell_type": "markdown",
   "metadata": {},
   "source": [
    "## Read Cleaned Tweet Dataset"
   ]
  },
  {
   "cell_type": "code",
   "execution_count": 25,
   "metadata": {},
   "outputs": [],
   "source": [
    "#read file\n",
    "df = pd.read_json(\"./intermediate_data/cleaned_tweet_data.json\")"
   ]
  },
  {
   "cell_type": "code",
   "execution_count": 26,
   "metadata": {},
   "outputs": [
    {
     "data": {
      "text/html": [
       "<div>\n",
       "<style scoped>\n",
       "    .dataframe tbody tr th:only-of-type {\n",
       "        vertical-align: middle;\n",
       "    }\n",
       "\n",
       "    .dataframe tbody tr th {\n",
       "        vertical-align: top;\n",
       "    }\n",
       "\n",
       "    .dataframe thead th {\n",
       "        text-align: right;\n",
       "    }\n",
       "</style>\n",
       "<table border=\"1\" class=\"dataframe\">\n",
       "  <thead>\n",
       "    <tr style=\"text-align: right;\">\n",
       "      <th></th>\n",
       "      <th>user_created_at</th>\n",
       "      <th>tweet_full_text</th>\n",
       "      <th>tweet_favorite_count</th>\n",
       "      <th>tweet_created_at</th>\n",
       "      <th>user_name</th>\n",
       "      <th>user_profile_image_url_https</th>\n",
       "      <th>user_profile_sidebar_border_color</th>\n",
       "      <th>user_profile_sidebar_fill_color</th>\n",
       "      <th>user_profile_text_color</th>\n",
       "      <th>user_profile_use_background_image</th>\n",
       "      <th>user_screen_name</th>\n",
       "      <th>user_profile_background_color</th>\n",
       "      <th>user_friends_count</th>\n",
       "      <th>user_followers_count</th>\n",
       "      <th>user_description</th>\n",
       "      <th>user_location</th>\n",
       "      <th>user_location_State</th>\n",
       "      <th>state_political_values</th>\n",
       "      <th>tweet_w_user_descript</th>\n",
       "      <th>tweet_favorited</th>\n",
       "    </tr>\n",
       "  </thead>\n",
       "  <tbody>\n",
       "    <tr>\n",
       "      <td>0</td>\n",
       "      <td>2015-05-08 10:27:51+00:00</td>\n",
       "      <td>done is better than perfect. — sheryl sandberg...</td>\n",
       "      <td>0</td>\n",
       "      <td>2018-09-07 16:25:06+00:00</td>\n",
       "      <td>Ultra YOU Woman</td>\n",
       "      <td>https://pbs.twimg.com/profile_images/597000926...</td>\n",
       "      <td>C0DEED</td>\n",
       "      <td>DDEEF6</td>\n",
       "      <td>333333</td>\n",
       "      <td>True</td>\n",
       "      <td>UltraYOUwoman</td>\n",
       "      <td>C0DEED</td>\n",
       "      <td>48721</td>\n",
       "      <td>57983</td>\n",
       "      <td>i share tips to achieve your health goals and ...</td>\n",
       "      <td>California, USA</td>\n",
       "      <td>CA</td>\n",
       "      <td>Democrat</td>\n",
       "      <td>done is better than perfect. — sheryl sandberg...</td>\n",
       "      <td>False</td>\n",
       "    </tr>\n",
       "    <tr>\n",
       "      <td>1</td>\n",
       "      <td>2008-12-26 09:30:23+00:00</td>\n",
       "      <td>hero fdny likesforlikes promo music instagood ...</td>\n",
       "      <td>0</td>\n",
       "      <td>2018-09-07 16:24:59+00:00</td>\n",
       "      <td>Yung Cut Up (Videos)</td>\n",
       "      <td>https://pbs.twimg.com/profile_images/945333114...</td>\n",
       "      <td>FFFFFF</td>\n",
       "      <td>EFEFEF</td>\n",
       "      <td>333333</td>\n",
       "      <td>True</td>\n",
       "      <td>yungcutup</td>\n",
       "      <td>131516</td>\n",
       "      <td>5489</td>\n",
       "      <td>13241</td>\n",
       "      <td>all business inquiries contact cluuxxgmail.com...</td>\n",
       "      <td>Miami, Florida</td>\n",
       "      <td>FL</td>\n",
       "      <td>Republican</td>\n",
       "      <td>hero fdny likesforlikes promo music instagood ...</td>\n",
       "      <td>False</td>\n",
       "    </tr>\n",
       "    <tr>\n",
       "      <td>2</td>\n",
       "      <td>2009-04-17 23:04:15+00:00</td>\n",
       "      <td>just do it 4your morning 4your meme  cookie  f...</td>\n",
       "      <td>0</td>\n",
       "      <td>2018-09-07 16:24:50+00:00</td>\n",
       "      <td>Rachel Bogle</td>\n",
       "      <td>https://pbs.twimg.com/profile_images/986345956...</td>\n",
       "      <td>FFFFFF</td>\n",
       "      <td>FC6A71</td>\n",
       "      <td>050505</td>\n",
       "      <td>True</td>\n",
       "      <td>rachelbogle</td>\n",
       "      <td>FFFAFF</td>\n",
       "      <td>2386</td>\n",
       "      <td>11377</td>\n",
       "      <td>morning traffic reporter cbs 4indy | traffic a...</td>\n",
       "      <td>Indianapolis, IN</td>\n",
       "      <td>IN</td>\n",
       "      <td>Republican</td>\n",
       "      <td>just do it 4your morning 4your meme  cookie  f...</td>\n",
       "      <td>False</td>\n",
       "    </tr>\n",
       "    <tr>\n",
       "      <td>3</td>\n",
       "      <td>2010-08-08 02:02:56+00:00</td>\n",
       "      <td>kapernickeffect swoosh justdoit  lucas bishop'...</td>\n",
       "      <td>0</td>\n",
       "      <td>2018-09-07 16:24:44+00:00</td>\n",
       "      <td>Ervin Youngblood</td>\n",
       "      <td>https://pbs.twimg.com/profile_images/724407937...</td>\n",
       "      <td>C0DEED</td>\n",
       "      <td>DDEEF6</td>\n",
       "      <td>333333</td>\n",
       "      <td>True</td>\n",
       "      <td>ErvGotti609</td>\n",
       "      <td>C0DEED</td>\n",
       "      <td>965</td>\n",
       "      <td>218</td>\n",
       "      <td>giants, mets, 7 6ers, penguins, florida state,...</td>\n",
       "      <td>Tennessee by way of New Jersey</td>\n",
       "      <td>TN</td>\n",
       "      <td>Republican</td>\n",
       "      <td>kapernickeffect swoosh justdoit  lucas bishop'...</td>\n",
       "      <td>False</td>\n",
       "    </tr>\n",
       "    <tr>\n",
       "      <td>5</td>\n",
       "      <td>2008-07-23 16:43:42+00:00</td>\n",
       "      <td>real donald trump it's time for me to stock up...</td>\n",
       "      <td>0</td>\n",
       "      <td>2018-09-07 16:24:35+00:00</td>\n",
       "      <td>tazman69</td>\n",
       "      <td>https://pbs.twimg.com/profile_images/743752426...</td>\n",
       "      <td>C0DEED</td>\n",
       "      <td>DDEEF6</td>\n",
       "      <td>333333</td>\n",
       "      <td>True</td>\n",
       "      <td>tazman69</td>\n",
       "      <td>C0DEED</td>\n",
       "      <td>175</td>\n",
       "      <td>64</td>\n",
       "      <td>enjoys cycling, running &amp; spending a relaxing ...</td>\n",
       "      <td>Austin, TX</td>\n",
       "      <td>TX</td>\n",
       "      <td>Republican</td>\n",
       "      <td>real donald trump it's time for me to stock up...</td>\n",
       "      <td>False</td>\n",
       "    </tr>\n",
       "  </tbody>\n",
       "</table>\n",
       "</div>"
      ],
      "text/plain": [
       "            user_created_at  \\\n",
       "0 2015-05-08 10:27:51+00:00   \n",
       "1 2008-12-26 09:30:23+00:00   \n",
       "2 2009-04-17 23:04:15+00:00   \n",
       "3 2010-08-08 02:02:56+00:00   \n",
       "5 2008-07-23 16:43:42+00:00   \n",
       "\n",
       "                                     tweet_full_text  tweet_favorite_count  \\\n",
       "0  done is better than perfect. — sheryl sandberg...                     0   \n",
       "1  hero fdny likesforlikes promo music instagood ...                     0   \n",
       "2  just do it 4your morning 4your meme  cookie  f...                     0   \n",
       "3  kapernickeffect swoosh justdoit  lucas bishop'...                     0   \n",
       "5  real donald trump it's time for me to stock up...                     0   \n",
       "\n",
       "           tweet_created_at             user_name  \\\n",
       "0 2018-09-07 16:25:06+00:00       Ultra YOU Woman   \n",
       "1 2018-09-07 16:24:59+00:00  Yung Cut Up (Videos)   \n",
       "2 2018-09-07 16:24:50+00:00          Rachel Bogle   \n",
       "3 2018-09-07 16:24:44+00:00      Ervin Youngblood   \n",
       "5 2018-09-07 16:24:35+00:00              tazman69   \n",
       "\n",
       "                        user_profile_image_url_https  \\\n",
       "0  https://pbs.twimg.com/profile_images/597000926...   \n",
       "1  https://pbs.twimg.com/profile_images/945333114...   \n",
       "2  https://pbs.twimg.com/profile_images/986345956...   \n",
       "3  https://pbs.twimg.com/profile_images/724407937...   \n",
       "5  https://pbs.twimg.com/profile_images/743752426...   \n",
       "\n",
       "  user_profile_sidebar_border_color user_profile_sidebar_fill_color  \\\n",
       "0                            C0DEED                          DDEEF6   \n",
       "1                            FFFFFF                          EFEFEF   \n",
       "2                            FFFFFF                          FC6A71   \n",
       "3                            C0DEED                          DDEEF6   \n",
       "5                            C0DEED                          DDEEF6   \n",
       "\n",
       "  user_profile_text_color  user_profile_use_background_image user_screen_name  \\\n",
       "0                  333333                               True    UltraYOUwoman   \n",
       "1                  333333                               True        yungcutup   \n",
       "2                  050505                               True      rachelbogle   \n",
       "3                  333333                               True      ErvGotti609   \n",
       "5                  333333                               True         tazman69   \n",
       "\n",
       "  user_profile_background_color  user_friends_count  user_followers_count  \\\n",
       "0                        C0DEED               48721                 57983   \n",
       "1                        131516                5489                 13241   \n",
       "2                        FFFAFF                2386                 11377   \n",
       "3                        C0DEED                 965                   218   \n",
       "5                        C0DEED                 175                    64   \n",
       "\n",
       "                                    user_description  \\\n",
       "0  i share tips to achieve your health goals and ...   \n",
       "1  all business inquiries contact cluuxxgmail.com...   \n",
       "2  morning traffic reporter cbs 4indy | traffic a...   \n",
       "3  giants, mets, 7 6ers, penguins, florida state,...   \n",
       "5  enjoys cycling, running & spending a relaxing ...   \n",
       "\n",
       "                    user_location user_location_State state_political_values  \\\n",
       "0                 California, USA                  CA               Democrat   \n",
       "1                  Miami, Florida                  FL             Republican   \n",
       "2                Indianapolis, IN                  IN             Republican   \n",
       "3  Tennessee by way of New Jersey                  TN             Republican   \n",
       "5                      Austin, TX                  TX             Republican   \n",
       "\n",
       "                               tweet_w_user_descript  tweet_favorited  \n",
       "0  done is better than perfect. — sheryl sandberg...            False  \n",
       "1  hero fdny likesforlikes promo music instagood ...            False  \n",
       "2  just do it 4your morning 4your meme  cookie  f...            False  \n",
       "3  kapernickeffect swoosh justdoit  lucas bishop'...            False  \n",
       "5  real donald trump it's time for me to stock up...            False  "
      ]
     },
     "execution_count": 26,
     "metadata": {},
     "output_type": "execute_result"
    }
   ],
   "source": [
    "df.head()"
   ]
  },
  {
   "cell_type": "code",
   "execution_count": 27,
   "metadata": {},
   "outputs": [],
   "source": [
    "df_nike = df[df['tweet_full_text'].str.contains(\"nike\")]"
   ]
  },
  {
   "cell_type": "markdown",
   "metadata": {},
   "source": [
    "## Split Dataset into a Training Set and a Test Set"
   ]
  },
  {
   "cell_type": "code",
   "execution_count": 28,
   "metadata": {},
   "outputs": [],
   "source": [
    "train_df, dev_df, test_df= \\\n",
    "    np.split(df_nike.sample(frac=1, random_state=RANDOM_SEED),\n",
    "    [int(.8*len(df_nike)), int(.9*len(df_nike))]\n",
    ")"
   ]
  },
  {
   "cell_type": "markdown",
   "metadata": {},
   "source": [
    "## Convert Text Data to Features Using Bigram Vectorizer"
   ]
  },
  {
   "cell_type": "code",
   "execution_count": 29,
   "metadata": {},
   "outputs": [],
   "source": [
    "bigram_vectorizer = TfidfVectorizer(stop_words='english', min_df=500, ngram_range=(1,2))\n",
    "X_train = bigram_vectorizer.fit_transform(train_df.tweet_full_text)\n",
    "\n",
    "y_train = list(train_df.tweet_favorited)"
   ]
  },
  {
   "cell_type": "code",
   "execution_count": 30,
   "metadata": {},
   "outputs": [
    {
     "data": {
      "text/plain": [
       "<796x2 sparse matrix of type '<class 'numpy.float64'>'\n",
       "\twith 1337 stored elements in Compressed Sparse Row format>"
      ]
     },
     "execution_count": 30,
     "metadata": {},
     "output_type": "execute_result"
    }
   ],
   "source": [
    "X_train"
   ]
  },
  {
   "cell_type": "markdown",
   "metadata": {},
   "source": [
    "## Train a Random Forest Classifier"
   ]
  },
  {
   "cell_type": "code",
   "execution_count": 31,
   "metadata": {},
   "outputs": [],
   "source": [
    "clf = RandomForestClassifier(max_depth=5, random_state=RANDOM_SEED).fit(X_train, y_train)"
   ]
  },
  {
   "cell_type": "markdown",
   "metadata": {},
   "source": [
    "## Generate Dev Data"
   ]
  },
  {
   "cell_type": "code",
   "execution_count": 32,
   "metadata": {},
   "outputs": [],
   "source": [
    "X_dev = bigram_vectorizer.transform(dev_df.tweet_full_text)\n",
    "\n",
    "y_dev = list(dev_df.tweet_favorited)"
   ]
  },
  {
   "cell_type": "markdown",
   "metadata": {},
   "source": [
    "## Create Dummy Classifiers\n",
    "Dummy classifiers are a way to compare a model's results if the regression was done with simple rules. For example, the \"most frequent\" strategy just picks the most frequent y value in the training set."
   ]
  },
  {
   "cell_type": "code",
   "execution_count": 33,
   "metadata": {},
   "outputs": [
    {
     "data": {
      "text/plain": [
       "DummyClassifier(random_state=655, strategy='uniform')"
      ]
     },
     "execution_count": 33,
     "metadata": {},
     "output_type": "execute_result"
    }
   ],
   "source": [
    "dummy_clf_most_frequent = DummyClassifier(strategy=\"most_frequent\", random_state=RANDOM_SEED)\n",
    "dummy_clf_most_frequent.fit(X_train, y_train)\n",
    "\n",
    "dummy_clf_uniform = DummyClassifier(strategy=\"uniform\", random_state=RANDOM_SEED)\n",
    "dummy_clf_uniform.fit(X_train, y_train)\n"
   ]
  },
  {
   "cell_type": "markdown",
   "metadata": {},
   "source": [
    "## Create Predictions for Dev Set"
   ]
  },
  {
   "cell_type": "code",
   "execution_count": 34,
   "metadata": {},
   "outputs": [],
   "source": [
    "lr_dev_preds = clf.predict(X_dev)\n",
    "rand_dev_preds = dummy_clf_uniform.predict(X_dev)\n",
    "mf_dev_preds = dummy_clf_most_frequent.predict(X_dev)"
   ]
  },
  {
   "cell_type": "markdown",
   "metadata": {},
   "source": [
    "## Score predictions for Dev Set"
   ]
  },
  {
   "cell_type": "code",
   "execution_count": 35,
   "metadata": {},
   "outputs": [],
   "source": [
    "lr_f1 = f1_score(y_dev, lr_dev_preds, average='macro')\n",
    "rand_f1 = f1_score(y_dev, rand_dev_preds, average='macro')\n",
    "mf_f1 = f1_score(y_dev, mf_dev_preds, average='macro')"
   ]
  },
  {
   "cell_type": "code",
   "execution_count": 36,
   "metadata": {},
   "outputs": [
    {
     "name": "stdout",
     "output_type": "stream",
     "text": [
      "Model Score: 0.4309460929004194\n",
      "Dummy Score (random): 0.38636363636363635\n",
      "Dummy Score (most frequent): 0.3888888888888889\n"
     ]
    }
   ],
   "source": [
    "print(\"Model Score:\", lr_f1)\n",
    "print(\"Dummy Score (random):\", rand_f1)\n",
    "print(\"Dummy Score (most frequent):\", mf_f1)"
   ]
  },
  {
   "cell_type": "markdown",
   "metadata": {},
   "source": [
    "## Results\n",
    "The random forest model appears to have a f1 score higher than the score generated by either dummy variable. This suggests that there might be some prediction power in a tweet's text in determining if it will favorited. This means that Nike may benefit from looking at favorited tweets closer to see what they have in common. An interesting next step would be to compare it to the insights generated from Section 2, the exploratory analysis What are there topics? How do the people sending the tweets identify themselves and where are they from?"
   ]
  },
  {
   "cell_type": "markdown",
   "metadata": {},
   "source": [
    "## Next Step\n",
    "After you run the regression model, run the next step in the workflow [4-FitPredictECResults.ipynb](./4-FitPredictECResults.ipynb) or go back to [0-Workflow.ipynb](./0-Workflow.ipynb)."
   ]
  },
  {
   "cell_type": "markdown",
   "metadata": {},
   "source": [
    "---\n",
    "\n",
    "**Author:** [Nick Capaldini](mailto:nickcaps@umich.edu), University of Michigan, January 19, 2022\n",
    "\n",
    "---"
   ]
  },
  {
   "cell_type": "code",
   "execution_count": null,
   "metadata": {},
   "outputs": [],
   "source": []
  }
 ],
 "metadata": {
  "kernelspec": {
   "display_name": "Python 3",
   "language": "python",
   "name": "python3"
  },
  "language_info": {
   "codemirror_mode": {
    "name": "ipython",
    "version": 3
   },
   "file_extension": ".py",
   "mimetype": "text/x-python",
   "name": "python",
   "nbconvert_exporter": "python",
   "pygments_lexer": "ipython3",
   "version": "3.7.4"
  }
 },
 "nbformat": 4,
 "nbformat_minor": 2
}
