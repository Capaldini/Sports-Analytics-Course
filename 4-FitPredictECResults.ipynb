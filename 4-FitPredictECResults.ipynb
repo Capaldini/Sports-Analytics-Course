{
 "cells": [
  {
   "cell_type": "markdown",
   "metadata": {},
   "source": [
    "#  Fit a Model  and Predict Home State Electoral College Results\n",
    "This notebook attempts to create a model that can predict whether a tweet came from a state that voted Republican or Democratic during the 2016 Presidential election."
   ]
  },
  {
   "cell_type": "code",
   "execution_count": 15,
   "metadata": {},
   "outputs": [],
   "source": [
    "import pandas as pd\n",
    "import mlutils\n",
    "from sklearn import svm, metrics\n",
    "from sklearn.linear_model import LogisticRegression\n",
    "from sklearn.model_selection import train_test_split\n",
    "import json\n",
    "import numpy as np\n",
    "from sklearn.dummy import DummyClassifier\n",
    "from sklearn.feature_extraction.text import TfidfVectorizer\n",
    "from sklearn.ensemble import RandomForestClassifier\n",
    "from sklearn.metrics import f1_score\n",
    "from sklearn.model_selection import train_test_split\n",
    "from tqdm import tqdm"
   ]
  },
  {
   "cell_type": "code",
   "execution_count": 16,
   "metadata": {},
   "outputs": [],
   "source": [
    "#set random seed\n",
    "RANDOM_SEED = 655"
   ]
  },
  {
   "cell_type": "markdown",
   "metadata": {},
   "source": [
    "## Read Cleaned Tweet Dataset"
   ]
  },
  {
   "cell_type": "code",
   "execution_count": 17,
   "metadata": {},
   "outputs": [],
   "source": [
    "#read file\n",
    "df = pd.read_json(\"./intermediate_data/cleaned_tweet_data.json\")\n",
    "df_nike = df[df['tweet_full_text'].str.contains(\"nike\")]"
   ]
  },
  {
   "cell_type": "code",
   "execution_count": 18,
   "metadata": {},
   "outputs": [
    {
     "data": {
      "text/html": [
       "<div>\n",
       "<style scoped>\n",
       "    .dataframe tbody tr th:only-of-type {\n",
       "        vertical-align: middle;\n",
       "    }\n",
       "\n",
       "    .dataframe tbody tr th {\n",
       "        vertical-align: top;\n",
       "    }\n",
       "\n",
       "    .dataframe thead th {\n",
       "        text-align: right;\n",
       "    }\n",
       "</style>\n",
       "<table border=\"1\" class=\"dataframe\">\n",
       "  <thead>\n",
       "    <tr style=\"text-align: right;\">\n",
       "      <th></th>\n",
       "      <th>user_created_at</th>\n",
       "      <th>tweet_full_text</th>\n",
       "      <th>tweet_favorite_count</th>\n",
       "      <th>tweet_created_at</th>\n",
       "      <th>user_name</th>\n",
       "      <th>user_profile_image_url_https</th>\n",
       "      <th>user_profile_sidebar_border_color</th>\n",
       "      <th>user_profile_sidebar_fill_color</th>\n",
       "      <th>user_profile_text_color</th>\n",
       "      <th>user_profile_use_background_image</th>\n",
       "      <th>user_screen_name</th>\n",
       "      <th>user_profile_background_color</th>\n",
       "      <th>user_friends_count</th>\n",
       "      <th>user_followers_count</th>\n",
       "      <th>user_description</th>\n",
       "      <th>user_location</th>\n",
       "      <th>user_location_State</th>\n",
       "      <th>state_political_values</th>\n",
       "      <th>tweet_w_user_descript</th>\n",
       "      <th>tweet_favorited</th>\n",
       "    </tr>\n",
       "  </thead>\n",
       "  <tbody>\n",
       "    <tr>\n",
       "      <td>1</td>\n",
       "      <td>2008-12-26 09:30:23+00:00</td>\n",
       "      <td>hero fdny likesforlikes promo music instagood ...</td>\n",
       "      <td>0</td>\n",
       "      <td>2018-09-07 16:24:59+00:00</td>\n",
       "      <td>Yung Cut Up (Videos)</td>\n",
       "      <td>https://pbs.twimg.com/profile_images/945333114...</td>\n",
       "      <td>FFFFFF</td>\n",
       "      <td>EFEFEF</td>\n",
       "      <td>333333</td>\n",
       "      <td>True</td>\n",
       "      <td>yungcutup</td>\n",
       "      <td>131516</td>\n",
       "      <td>5489</td>\n",
       "      <td>13241</td>\n",
       "      <td>all business inquiries contact cluuxxgmail.com...</td>\n",
       "      <td>Miami, Florida</td>\n",
       "      <td>FL</td>\n",
       "      <td>Republican</td>\n",
       "      <td>hero fdny likesforlikes promo music instagood ...</td>\n",
       "      <td>False</td>\n",
       "    </tr>\n",
       "    <tr>\n",
       "      <td>5</td>\n",
       "      <td>2008-07-23 16:43:42+00:00</td>\n",
       "      <td>real donald trump it's time for me to stock up...</td>\n",
       "      <td>0</td>\n",
       "      <td>2018-09-07 16:24:35+00:00</td>\n",
       "      <td>tazman69</td>\n",
       "      <td>https://pbs.twimg.com/profile_images/743752426...</td>\n",
       "      <td>C0DEED</td>\n",
       "      <td>DDEEF6</td>\n",
       "      <td>333333</td>\n",
       "      <td>True</td>\n",
       "      <td>tazman69</td>\n",
       "      <td>C0DEED</td>\n",
       "      <td>175</td>\n",
       "      <td>64</td>\n",
       "      <td>enjoys cycling, running &amp; spending a relaxing ...</td>\n",
       "      <td>Austin, TX</td>\n",
       "      <td>TX</td>\n",
       "      <td>Republican</td>\n",
       "      <td>real donald trump it's time for me to stock up...</td>\n",
       "      <td>False</td>\n",
       "    </tr>\n",
       "    <tr>\n",
       "      <td>7</td>\n",
       "      <td>2016-06-17 17:22:12+00:00</td>\n",
       "      <td>nike good job on shaking the whole world, i se...</td>\n",
       "      <td>0</td>\n",
       "      <td>2018-09-07 16:24:13+00:00</td>\n",
       "      <td>Jim Christopher Aure</td>\n",
       "      <td>https://pbs.twimg.com/profile_images/935288930...</td>\n",
       "      <td>C0DEED</td>\n",
       "      <td>DDEEF6</td>\n",
       "      <td>333333</td>\n",
       "      <td>True</td>\n",
       "      <td>jaure302</td>\n",
       "      <td>F5F8FA</td>\n",
       "      <td>129</td>\n",
       "      <td>88</td>\n",
       "      <td>barber pole  barber pole  barber pole</td>\n",
       "      <td>Newark, DE</td>\n",
       "      <td>DE</td>\n",
       "      <td>Democrat</td>\n",
       "      <td>nike good job on shaking the whole world, i se...</td>\n",
       "      <td>False</td>\n",
       "    </tr>\n",
       "    <tr>\n",
       "      <td>11</td>\n",
       "      <td>2012-03-27 22:35:39+00:00</td>\n",
       "      <td>colin kaepernick's business partner nike sends...</td>\n",
       "      <td>0</td>\n",
       "      <td>2018-09-07 16:23:40+00:00</td>\n",
       "      <td>2nd Vote</td>\n",
       "      <td>https://pbs.twimg.com/profile_images/282028719...</td>\n",
       "      <td>FFFFFF</td>\n",
       "      <td>DDEEF6</td>\n",
       "      <td>333333</td>\n",
       "      <td>True</td>\n",
       "      <td>2ndVote</td>\n",
       "      <td>FFFFFF</td>\n",
       "      <td>2433</td>\n",
       "      <td>3298</td>\n",
       "      <td>conservative watchdog for corporate activism. ...</td>\n",
       "      <td>Nashville, Tenn.</td>\n",
       "      <td>TN</td>\n",
       "      <td>Republican</td>\n",
       "      <td>colin kaepernick's business partner nike sends...</td>\n",
       "      <td>False</td>\n",
       "    </tr>\n",
       "    <tr>\n",
       "      <td>17</td>\n",
       "      <td>2013-01-16 21:46:58+00:00</td>\n",
       "      <td>hey nike i stood for our country. i served my ...</td>\n",
       "      <td>1</td>\n",
       "      <td>2018-09-07 16:23:09+00:00</td>\n",
       "      <td>James</td>\n",
       "      <td>https://pbs.twimg.com/profile_images/561207015...</td>\n",
       "      <td>000000</td>\n",
       "      <td>EFEFEF</td>\n",
       "      <td>333333</td>\n",
       "      <td>True</td>\n",
       "      <td>NoGunsNoGlory</td>\n",
       "      <td>131516</td>\n",
       "      <td>17225</td>\n",
       "      <td>19427</td>\n",
       "      <td>i am toxic masculinity. i make my own bbq sauc...</td>\n",
       "      <td>Rural Texas</td>\n",
       "      <td>TX</td>\n",
       "      <td>Republican</td>\n",
       "      <td>hey nike i stood for our country. i served my ...</td>\n",
       "      <td>True</td>\n",
       "    </tr>\n",
       "  </tbody>\n",
       "</table>\n",
       "</div>"
      ],
      "text/plain": [
       "             user_created_at  \\\n",
       "1  2008-12-26 09:30:23+00:00   \n",
       "5  2008-07-23 16:43:42+00:00   \n",
       "7  2016-06-17 17:22:12+00:00   \n",
       "11 2012-03-27 22:35:39+00:00   \n",
       "17 2013-01-16 21:46:58+00:00   \n",
       "\n",
       "                                      tweet_full_text  tweet_favorite_count  \\\n",
       "1   hero fdny likesforlikes promo music instagood ...                     0   \n",
       "5   real donald trump it's time for me to stock up...                     0   \n",
       "7   nike good job on shaking the whole world, i se...                     0   \n",
       "11  colin kaepernick's business partner nike sends...                     0   \n",
       "17  hey nike i stood for our country. i served my ...                     1   \n",
       "\n",
       "            tweet_created_at             user_name  \\\n",
       "1  2018-09-07 16:24:59+00:00  Yung Cut Up (Videos)   \n",
       "5  2018-09-07 16:24:35+00:00              tazman69   \n",
       "7  2018-09-07 16:24:13+00:00  Jim Christopher Aure   \n",
       "11 2018-09-07 16:23:40+00:00              2nd Vote   \n",
       "17 2018-09-07 16:23:09+00:00                 James   \n",
       "\n",
       "                         user_profile_image_url_https  \\\n",
       "1   https://pbs.twimg.com/profile_images/945333114...   \n",
       "5   https://pbs.twimg.com/profile_images/743752426...   \n",
       "7   https://pbs.twimg.com/profile_images/935288930...   \n",
       "11  https://pbs.twimg.com/profile_images/282028719...   \n",
       "17  https://pbs.twimg.com/profile_images/561207015...   \n",
       "\n",
       "   user_profile_sidebar_border_color user_profile_sidebar_fill_color  \\\n",
       "1                             FFFFFF                          EFEFEF   \n",
       "5                             C0DEED                          DDEEF6   \n",
       "7                             C0DEED                          DDEEF6   \n",
       "11                            FFFFFF                          DDEEF6   \n",
       "17                            000000                          EFEFEF   \n",
       "\n",
       "   user_profile_text_color  user_profile_use_background_image  \\\n",
       "1                   333333                               True   \n",
       "5                   333333                               True   \n",
       "7                   333333                               True   \n",
       "11                  333333                               True   \n",
       "17                  333333                               True   \n",
       "\n",
       "   user_screen_name user_profile_background_color  user_friends_count  \\\n",
       "1         yungcutup                        131516                5489   \n",
       "5          tazman69                        C0DEED                 175   \n",
       "7          jaure302                        F5F8FA                 129   \n",
       "11          2ndVote                        FFFFFF                2433   \n",
       "17    NoGunsNoGlory                        131516               17225   \n",
       "\n",
       "    user_followers_count                                   user_description  \\\n",
       "1                  13241  all business inquiries contact cluuxxgmail.com...   \n",
       "5                     64  enjoys cycling, running & spending a relaxing ...   \n",
       "7                     88             barber pole  barber pole  barber pole    \n",
       "11                  3298  conservative watchdog for corporate activism. ...   \n",
       "17                 19427  i am toxic masculinity. i make my own bbq sauc...   \n",
       "\n",
       "       user_location user_location_State state_political_values  \\\n",
       "1     Miami, Florida                  FL             Republican   \n",
       "5         Austin, TX                  TX             Republican   \n",
       "7         Newark, DE                  DE               Democrat   \n",
       "11  Nashville, Tenn.                  TN             Republican   \n",
       "17       Rural Texas                  TX             Republican   \n",
       "\n",
       "                                tweet_w_user_descript  tweet_favorited  \n",
       "1   hero fdny likesforlikes promo music instagood ...            False  \n",
       "5   real donald trump it's time for me to stock up...            False  \n",
       "7   nike good job on shaking the whole world, i se...            False  \n",
       "11  colin kaepernick's business partner nike sends...            False  \n",
       "17  hey nike i stood for our country. i served my ...             True  "
      ]
     },
     "execution_count": 18,
     "metadata": {},
     "output_type": "execute_result"
    }
   ],
   "source": [
    "df_nike.head()"
   ]
  },
  {
   "cell_type": "markdown",
   "metadata": {},
   "source": [
    "## Split Dataset into a Training Set and a Test Set"
   ]
  },
  {
   "cell_type": "code",
   "execution_count": 19,
   "metadata": {},
   "outputs": [],
   "source": [
    "train_df, dev_df, test_df= \\\n",
    "    np.split(df_nike.sample(frac=1, random_state=RANDOM_SEED),\n",
    "    [int(.8*len(df_nike)), int(.9*len(df_nike))]\n",
    ")"
   ]
  },
  {
   "cell_type": "markdown",
   "metadata": {},
   "source": [
    "## Convert Text Data to Features Using Bigram Vectorizer"
   ]
  },
  {
   "cell_type": "code",
   "execution_count": 20,
   "metadata": {},
   "outputs": [],
   "source": [
    "bigram_vectorizer = TfidfVectorizer(stop_words='english', min_df=500, ngram_range=(1,2))\n",
    "X_train = bigram_vectorizer.fit_transform(train_df.tweet_full_text)\n",
    "\n",
    "y_train = list(train_df.state_political_values)"
   ]
  },
  {
   "cell_type": "markdown",
   "metadata": {},
   "source": [
    "## Train a Random Forest Classifier"
   ]
  },
  {
   "cell_type": "code",
   "execution_count": 21,
   "metadata": {},
   "outputs": [],
   "source": [
    "clf = RandomForestClassifier(max_depth=5, random_state=RANDOM_SEED).fit(X_train, y_train)"
   ]
  },
  {
   "cell_type": "markdown",
   "metadata": {},
   "source": [
    "## Generate Dev Data"
   ]
  },
  {
   "cell_type": "code",
   "execution_count": 22,
   "metadata": {},
   "outputs": [],
   "source": [
    "X_dev = bigram_vectorizer.transform(dev_df.tweet_full_text)\n",
    "\n",
    "y_dev = list(dev_df.state_political_values)"
   ]
  },
  {
   "cell_type": "markdown",
   "metadata": {},
   "source": [
    "## Create Dummy Classifiers\n",
    "Dummy classifiers are a way to compare a model's results if the regression was done with simple rules. For example, the \"most frequent\" strategy just picks what the most frequent y value was in the training set."
   ]
  },
  {
   "cell_type": "code",
   "execution_count": 23,
   "metadata": {},
   "outputs": [
    {
     "data": {
      "text/plain": [
       "DummyClassifier(random_state=655, strategy='uniform')"
      ]
     },
     "execution_count": 23,
     "metadata": {},
     "output_type": "execute_result"
    }
   ],
   "source": [
    "dummy_clf_most_frequent = DummyClassifier(strategy=\"most_frequent\", random_state=RANDOM_SEED)\n",
    "dummy_clf_most_frequent.fit(X_train, y_train)\n",
    "\n",
    "dummy_clf_uniform = DummyClassifier(strategy=\"uniform\", random_state=RANDOM_SEED)\n",
    "dummy_clf_uniform.fit(X_train, y_train)"
   ]
  },
  {
   "cell_type": "markdown",
   "metadata": {},
   "source": [
    "## Create Predictions for Dev Set"
   ]
  },
  {
   "cell_type": "code",
   "execution_count": 24,
   "metadata": {},
   "outputs": [],
   "source": [
    "lr_dev_preds = clf.predict(X_dev)\n",
    "rand_dev_preds = dummy_clf_uniform.predict(X_dev)\n",
    "mf_dev_preds = dummy_clf_most_frequent.predict(X_dev)"
   ]
  },
  {
   "cell_type": "markdown",
   "metadata": {},
   "source": [
    "## Score Predictions for Dev Set"
   ]
  },
  {
   "cell_type": "code",
   "execution_count": 25,
   "metadata": {},
   "outputs": [],
   "source": [
    "lr_f1 = f1_score(y_dev, lr_dev_preds, average='macro')\n",
    "rand_f1 = f1_score(y_dev, rand_dev_preds, average='macro')\n",
    "mf_f1 = f1_score(y_dev, mf_dev_preds, average='macro')"
   ]
  },
  {
   "cell_type": "code",
   "execution_count": 26,
   "metadata": {},
   "outputs": [
    {
     "name": "stdout",
     "output_type": "stream",
     "text": [
      "Model Score: 0.4739130434782609\n",
      "Dummy Score (random): 0.5330188679245282\n",
      "Dummy Score (most frequent): 0.3529411764705882\n"
     ]
    }
   ],
   "source": [
    "print(\"Model Score:\", lr_f1)\n",
    "print(\"Dummy Score (random):\", rand_f1)\n",
    "print(\"Dummy Score (most frequent):\", mf_f1)"
   ]
  },
  {
   "cell_type": "markdown",
   "metadata": {},
   "source": [
    "## Results\n",
    "The random forest model was not able to outperform the random dummy f1 score. This suggests that it is unlikely that there is a strong predictive power of a tweet's text when trying to determine the political leaning of the region it came from. This implies that if Nike is doing target marketing on Twitter with politicized messages, it should not segment its messages by the political leaning of the states where Twitter users reside. This does not appear to be an accurate measure of their reaction to the campaign or perspective on Nike products."
   ]
  },
  {
   "cell_type": "markdown",
   "metadata": {},
   "source": [
    "---\n",
    "\n",
    "**Author:** [Nick Capaldini](mailto:nickcaps@umich.edu), University of Michigan, January 19, 2022\n",
    "\n",
    "---"
   ]
  },
  {
   "cell_type": "code",
   "execution_count": null,
   "metadata": {},
   "outputs": [],
   "source": []
  }
 ],
 "metadata": {
  "kernelspec": {
   "display_name": "Python 3",
   "language": "python",
   "name": "python3"
  },
  "language_info": {
   "codemirror_mode": {
    "name": "ipython",
    "version": 3
   },
   "file_extension": ".py",
   "mimetype": "text/x-python",
   "name": "python",
   "nbconvert_exporter": "python",
   "pygments_lexer": "ipython3",
   "version": "3.7.4"
  }
 },
 "nbformat": 4,
 "nbformat_minor": 2
}
